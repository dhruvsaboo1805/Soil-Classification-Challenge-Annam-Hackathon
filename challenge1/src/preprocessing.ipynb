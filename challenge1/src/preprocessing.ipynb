{
 "cells": [
  {
   "cell_type": "code",
   "execution_count": null,
   "id": "f7366aef",
   "metadata": {},
   "outputs": [],
   "source": [
    "import os\n",
    "from PIL import Image\n",
    "import pandas as pd\n",
    "from torch.utils.data import Dataset\n",
    "from torchvision import transforms\n",
    "\n",
    "def resize_images(input_folder, output_folder, image_list, size=(224, 224)):\n",
    "    \"\"\"Your exact resize function\"\"\"\n",
    "    os.makedirs(output_folder, exist_ok=True)\n",
    "    for image_id in image_list:\n",
    "        input_path = os.path.join(input_folder, image_id)\n",
    "        output_path = os.path.join(output_folder, image_id)\n",
    "        try:\n",
    "            with Image.open(input_path) as img:\n",
    "                img_resized = img.resize(size, Image.LANCZOS).convert('RGB')\n",
    "                img_resized.save(output_path)\n",
    "        except Exception as e:\n",
    "            print(f\"Failed to process {image_id}: {e}\")\n",
    "    print(f\"{len(os.listdir(output_folder))} {input_folder} images resized successfully!\")\n",
    "\n",
    "class SoilDataset(Dataset):\n",
    "    \"\"\"Your exact Dataset class\"\"\"\n",
    "    def __init__(self, df, image_dir, transform=None):\n",
    "        self.df = df.reset_index(drop=True)\n",
    "        self.image_dir = image_dir\n",
    "        self.transform = transform\n",
    "\n",
    "    def __len__(self):\n",
    "        return len(self.df)\n",
    "\n",
    "    def __getitem__(self, idx):\n",
    "        img_id = self.df.loc[idx, \"image_id\"]\n",
    "        label = self.df.loc[idx, \"label\"]\n",
    "        image_path = os.path.join(self.image_dir, img_id)\n",
    "        image = Image.open(image_path).convert(\"RGB\")\n",
    "        if self.transform:\n",
    "            image = self.transform(image)\n",
    "        return image, label"
   ]
  }
 ],
 "metadata": {
  "language_info": {
   "name": "python"
  }
 },
 "nbformat": 4,
 "nbformat_minor": 5
}
