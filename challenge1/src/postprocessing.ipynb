{
 "cells": [
  {
   "cell_type": "code",
   "execution_count": null,
   "id": "21753180",
   "metadata": {},
   "outputs": [],
   "source": [
    "import pandas as pd\n",
    "from sklearn.preprocessing import LabelEncoder\n",
    "\n",
    "def generate_submission(model, test_df, image_dir=\"test_resized\", device=\"cuda\"):\n",
    "    \"\"\"Your exact prediction logic as a function\"\"\"\n",
    "    soil_classes = ['Alluvial soil', 'Black Soil', 'Clay soil', 'Red soil']\n",
    "    le = LabelEncoder()\n",
    "    le.fit(soil_classes)\n",
    "    \n",
    "    test_transform = transforms.Compose([\n",
    "        transforms.Resize((224, 224)),\n",
    "        transforms.ToTensor(),\n",
    "        transforms.Normalize(mean=[0.485, 0.456, 0.406],\n",
    "                           std=[0.229, 0.224, 0.225])\n",
    "    ])\n",
    "    \n",
    "    predicted_labels = []\n",
    "    for img_id in test_df[\"image_id\"]:\n",
    "        img_path = os.path.join(image_dir, img_id)\n",
    "        try:\n",
    "            image = Image.open(img_path).convert(\"RGB\")\n",
    "            image = test_transform(image).unsqueeze(0).to(device)\n",
    "            \n",
    "            with torch.no_grad():\n",
    "                outputs = model(image)\n",
    "                _, predicted_class = torch.max(outputs, 1)\n",
    "                predicted_labels.append(predicted_class.item())\n",
    "        except Exception as e:\n",
    "            print(f\"Failed to process {img_id}: {e}\")\n",
    "            predicted_labels.append(0)\n",
    "    \n",
    "    return pd.DataFrame({\n",
    "        \"image_id\": test_df[\"image_id\"],\n",
    "        \"soil_type\": le.inverse_transform(predicted_labels)\n",
    "    })"
   ]
  }
 ],
 "metadata": {
  "language_info": {
   "name": "python"
  }
 },
 "nbformat": 4,
 "nbformat_minor": 5
}
