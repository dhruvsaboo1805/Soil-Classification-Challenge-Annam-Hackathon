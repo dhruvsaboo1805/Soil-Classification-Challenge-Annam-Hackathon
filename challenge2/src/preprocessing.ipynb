{
 "cells": [
  {
   "cell_type": "code",
   "execution_count": null,
   "id": "f7366aef",
   "metadata": {},
   "outputs": [],
   "source": [
    "from tensorflow.keras.preprocessing.image import ImageDataGenerator\n",
    "\n",
    "def create_data_generators(df, image_dir, batch_size=32, img_size=(224, 224)):\n",
    "    \"\"\"Create train and validation generators\"\"\"\n",
    "    datagen = ImageDataGenerator(\n",
    "        rescale=1./255,\n",
    "        validation_split=0.2\n",
    "    )\n",
    "    \n",
    "    train_gen = datagen.flow_from_dataframe(\n",
    "        df,\n",
    "        directory=image_dir,\n",
    "        x_col='image_id',\n",
    "        y_col='label',\n",
    "        target_size=img_size,\n",
    "        class_mode='binary',\n",
    "        batch_size=batch_size,\n",
    "        subset='training'\n",
    "    )\n",
    "    \n",
    "    val_gen = datagen.flow_from_dataframe(\n",
    "        df,\n",
    "        directory=image_dir,\n",
    "        x_col='image_id',\n",
    "        y_col='label',\n",
    "        target_size=img_size,\n",
    "        class_mode='binary',\n",
    "        batch_size=batch_size,\n",
    "        subset='validation'\n",
    "    )\n",
    "    \n",
    "    return train_gen, val_gen"
   ]
  }
 ],
 "metadata": {
  "language_info": {
   "name": "python"
  }
 },
 "nbformat": 4,
 "nbformat_minor": 5
}
