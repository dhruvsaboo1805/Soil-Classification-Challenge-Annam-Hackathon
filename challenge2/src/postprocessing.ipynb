{
 "cells": [
  {
   "cell_type": "code",
   "execution_count": null,
   "id": "21753180",
   "metadata": {},
   "outputs": [],
   "source": [
    "import pandas as pd\n",
    "\n",
    "def create_submission(test_df, pred_labels):\n",
    "    \"\"\"Create submission DataFrame\"\"\"\n",
    "    return pd.DataFrame({\n",
    "        'image_id': test_df['image_id'],\n",
    "        'label': pred_labels\n",
    "    })"
   ]
  }
 ],
 "metadata": {
  "language_info": {
   "name": "python"
  }
 },
 "nbformat": 4,
 "nbformat_minor": 5
}
