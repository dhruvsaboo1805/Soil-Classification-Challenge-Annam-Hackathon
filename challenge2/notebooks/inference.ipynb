{
 "cells": [
  {
   "cell_type": "code",
   "execution_count": null,
   "id": "9b235a24",
   "metadata": {},
   "outputs": [],
   "source": [
    "from tensorflow.keras.models import load_model\n",
    "from tensorflow.keras.preprocessing.image import ImageDataGenerator\n",
    "import pandas as pd\n",
    "import numpy as np\n",
    "\n",
    "# Load model\n",
    "model = load_model(\"soil_classifier_resnet50.h5\")\n",
    "\n",
    "# Load test image IDs\n",
    "test_df = pd.read_csv(\"/kaggle/input/soil-classification-part-2/soil_competition-2025/test_ids.csv\")\n",
    "test_image_dir = \"/kaggle/input/soil-classification-part-2/soil_competition-2025/test\"\n",
    "\n",
    "# Preprocess test images\n",
    "test_datagen = ImageDataGenerator(rescale=1./255)\n",
    "\n",
    "test_gen = test_datagen.flow_from_dataframe(\n",
    "    dataframe=test_df,\n",
    "    directory=test_image_dir,\n",
    "    x_col='image_id',\n",
    "    y_col=None,\n",
    "    target_size=(224, 224),\n",
    "    class_mode=None,\n",
    "    batch_size=1,\n",
    "    shuffle=False\n",
    ")\n",
    "\n",
    "# Predict probabilities\n",
    "pred_probs = model.predict(test_gen, verbose=1)\n",
    "\n",
    "# Convert to binary predictions (threshold = 0.5)\n",
    "pred_labels = (pred_probs > 0.5).astype(int).flatten()\n",
    "\n",
    "# Create submission\n",
    "submission_df = pd.DataFrame({\n",
    "    'image_id': test_df['image_id'],\n",
    "    'label': pred_labels\n",
    "})\n",
    "\n",
    "# Save submission\n",
    "submission_df.to_csv(\"submission.csv\", index=False)\n",
    "print(\"Submission file saved to submission.csv\")"
   ]
  }
 ],
 "metadata": {
  "language_info": {
   "name": "python"
  }
 },
 "nbformat": 4,
 "nbformat_minor": 5
}
